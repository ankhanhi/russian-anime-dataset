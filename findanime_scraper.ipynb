{
 "cells": [
  {
   "cell_type": "markdown",
   "id": "688e10f6",
   "metadata": {},
   "source": [
    "# Web Scraping using Python and BeautifulSoup\n",
    "\n",
    "This code implements a web scraper to extract information about anime series from the website \"findanime.net\". The following information is extracted for each anime:\n",
    "\n",
    "- Title\n",
    "- Short title\n",
    "- URL to the anime page on the website\n",
    "- Image source\n",
    "- Anime tags\n",
    "- Translation status\n",
    "- Anime description\n",
    "- Count of episodes\n",
    "- Rating\n",
    "\n",
    "The extracted information is stored in a CSV file named \"anime.csv\".\n",
    "\n",
    "### Importing Required Libraries\n",
    "\n",
    "The code starts by importing the required libraries. The following libraries are used:\n",
    "\n",
    "tool | destiny\n",
    "--- | ---\n",
    "`Python 3` | Programing language\n",
    "`csv` | For writing the scraped data to a CSV file.\n",
    "`requests` | To send HTTP requests to the website.\n",
    "`BeautifulSoup` | For parsing the HTML content of the website.\n",
    "`regex` | For compiling regular expressions.\n",
    "`requests_html` | To create an HTML session object for sending HTTP requests.\n",
    "`numpy` | For converting a list to a numpy array.\n",
    "\n",
    "### Sending HTTP Requests\n",
    "An HTML session object is created using the HTMLSession class from the requests_html library. This object is used to send HTTP requests to the website. The URL of the webpage to\n"
   ]
  },
  {
   "cell_type": "code",
   "execution_count": 410,
   "id": "74626bd3",
   "metadata": {},
   "outputs": [],
   "source": [
    "# Importing required libraries \n",
    "import csv\n",
    "import requests\n",
    "from bs4 import BeautifulSoup\n",
    "import regex as re\n",
    "from requests_html import HTMLSession\n",
    "import numpy as np"
   ]
  },
  {
   "cell_type": "markdown",
   "id": "6ce39841",
   "metadata": {},
   "source": [
    "### Creating an HTML Session Object\n",
    "A session object is created using HTMLSession to store the headers and cookies that will be used in the HTTP requests."
   ]
  },
  {
   "cell_type": "code",
   "execution_count": 411,
   "id": "a038f208",
   "metadata": {},
   "outputs": [],
   "source": [
    "# Create an HTML session object\n",
    "session = HTMLSession()"
   ]
  },
  {
   "cell_type": "markdown",
   "id": "a6a2fd7b",
   "metadata": {},
   "source": [
    "### Defining the URL and Headers\n",
    "The URL of the FindAnime.net webpage to scrape is defined, and headers to include in the HTTP request are also defined."
   ]
  },
  {
   "cell_type": "code",
   "execution_count": 412,
   "id": "c67c74c8",
   "metadata": {},
   "outputs": [],
   "source": [
    "# URL of the webpage to scrape\n",
    "url = \"https://findanime.net/list?sortType=USER_RATING&offset=\"\n",
    "\n",
    "# headers to include in the request\n",
    "headers = {\n",
    "    \"Accept\": \"*/*\",\n",
    "    \"User-Agent\": \"Mozilla/5.0 (Windows NT 10.0; Win64; x64) AppleWebKit/537.36 (KHTML, like Gecko) Chrome/108.0.0.0 YaBrowser/23.1.1.1138 Yowser/2.5 Safari/537.36\"\n",
    "}"
   ]
  },
  {
   "cell_type": "markdown",
   "id": "55096800",
   "metadata": {},
   "source": [
    "### Creating the Anime List\n",
    "A list called anime_list is created to store the extracted anime information."
   ]
  },
  {
   "cell_type": "code",
   "execution_count": 413,
   "id": "3e4e6760",
   "metadata": {},
   "outputs": [],
   "source": [
    "# Create a list to store the anime information\n",
    "anime_list = []"
   ]
  },
  {
   "cell_type": "markdown",
   "id": "e3b04fc8",
   "metadata": {},
   "source": [
    "### Sending GET Requests and Parsing the HTML\n",
    "\n",
    "A for loop is used to send GET requests to the website for each page of the anime list (70 anime per page). The range function is used to specify the number of pages to scrape (in this case, 80 pages).\n",
    "\n",
    "The `session.get` function is used to send the GET request to the website, including the URL and headers. The response object is then used to access the HTML content of the page.\n",
    "\n",
    "The `BeautifulSoup` function is used to parse the HTML content into a soup object that can be easily searched and manipulated.\n",
    "\n",
    "The main container for the list of anime is found using the `soup.find` function and a search for a `div` element with the class `tiles row`."
   ]
  },
  {
   "cell_type": "code",
   "execution_count": null,
   "id": "e9bacd4c",
   "metadata": {},
   "outputs": [],
   "source": [
    "for i in range(1, 80):\n",
    "    # Send a GET request to the website using the session and headers\n",
    "    response = session.get(url+str(i*70), headers=headers)\n",
    "    html_content = response.content\n",
    "\n",
    "    # Use BeautifulSoup to parse the HTML content\n",
    "    soup = BeautifulSoup(html_content, \"html.parser\")\n",
    "\n",
    "    # Find the main container for the list of anime\n",
    "    anime_container = soup.find(\"div\", {\"class\": \"tiles row\"})\n",
    "\n",
    "    # Find all the anime items in the container\n",
    "    anime_items = anime_container.find_all(class_=re.compile(r'tile col-sm-6 *'))\n",
    "    \n",
    "    # Loop through each anime item and extract the necessary information\n",
    "    for anime_item in anime_items:\n",
    "        anime_title = anime_item.find('img')['title']\n",
    "        anime_short_title = anime_item.find(\"div\", {\"class\": \"desc\"}).find(\"a\")['title']\n",
    "        anime_href = 'https://findanime.net' + anime_item.find('a', {\"class\": \"non-hover\"})['href']\n",
    "        anime_image = anime_item.find('a', {\"class\": \"non-hover\"}).find('img')['data-original']\n",
    "        anime_tags = anime_item.find_all(\"span\", {\"class\": \"badge badge-light\"})\n",
    "        anime_tags = [tag.text for tag in anime_tags]\n",
    "        anime_translation = anime_item.find(\"span\", {\"class\": \"mangaTranslationCompleted\"})\n",
    "        anime_description = anime_item.find(\"div\", {\"class\": \"manga-description\"}).text.strip()\n",
    "        anime_count_ep = anime_item.find(\"span\", {\"class\": \"badge badge-secondary amount-badge\"})\n",
    "        if anime_count_ep:\n",
    "            anime_count_ep = int(anime_count_ep.text)\n",
    "        else:\n",
    "            anime_count_ep = 0\n",
    "        if anime_translation:\n",
    "            anime_translation = anime_translation.text\n",
    "        else:\n",
    "            anime_translation = 'нет перевода'\n",
    "        anime_rating = anime_item.find('b', {\"class\": \"rate-value\"})\n",
    "        anime_rating = float(anime_rating.text[10] + anime_rating.text[28:30])\n",
    "\n",
    "        # Add the extracted information to the anime list\n",
    "        anime_list.append([anime_title,\n",
    "                           anime_short_title,\n",
    "                           anime_href,\n",
    "                           anime_image,\n",
    "                           anime_tags,\n",
    "                           anime_translation,\n",
    "                           anime_description,\n",
    "                           anime_count_ep,\n",
    "                           anime_rating])"
   ]
  },
  {
   "cell_type": "code",
   "execution_count": null,
   "id": "0fa59bfb",
   "metadata": {},
   "outputs": [],
   "source": [
    "# Write the anime list to a CSV file\n",
    "anime_list = np.asarray(anime_list, dtype=object)"
   ]
  },
  {
   "cell_type": "markdown",
   "id": "7b20443d",
   "metadata": {},
   "source": [
    "### Writing anime list to CSV File\n",
    "We create a new CSV file named anime.csv using the open function. The file is opened in write mode (\"w\") and the encoding is set to \"utf-8\" for compatibility with a wide range of characters.\n",
    "### Adding Headers\n",
    "Next, we use the writerow method of the csv.writer object to add headers to the first line of the CSV file. The headers are a list of strings representing the different columns in the file.\n",
    "### Adding Data\n",
    "Finally, we use the writerows method to write the data in the anime_list array to the CSV file. The anime_list array is passed as an argument to writerows and each row in the array is written to a separate line in the CSV file."
   ]
  },
  {
   "cell_type": "code",
   "execution_count": null,
   "id": "1aa69520",
   "metadata": {},
   "outputs": [],
   "source": [
    "# Write as a CSV file with headers on first line\n",
    "with open(\"anime.csv\", \"w\", newline=\"\", encoding=\"utf-8\") as csvfile:\n",
    "    writer = csv.writer(csvfile)\n",
    "    # Add Headers\n",
    "    writer.writerow(['Title',\n",
    "                     'Short title',\n",
    "                     'Href',\n",
    "                     'Image src',\n",
    "                     'Tags',\n",
    "                     'Translation',\n",
    "                     'Description',\n",
    "                     'Count episodes',\n",
    "                     'Rate int',\n",
    "                     'Rate fraction'])\n",
    "    # Add Data\n",
    "    writer.writerows(anime_list)"
   ]
  },
  {
   "cell_type": "code",
   "execution_count": 414,
   "id": "baaa7917",
   "metadata": {},
   "outputs": [],
   "source": [
    "# Import the pandas library\n",
    "import pandas as pd"
   ]
  },
  {
   "cell_type": "code",
   "execution_count": 415,
   "id": "326a7f5b",
   "metadata": {},
   "outputs": [],
   "source": [
    "# Read the CSV file into a pandas DataFrame\n",
    "df = pd.read_csv(\"anime.csv\",  encoding=\"utf-8\")"
   ]
  },
  {
   "cell_type": "code",
   "execution_count": null,
   "id": "66392729",
   "metadata": {},
   "outputs": [
    {
     "data": {
      "text/html": [
       "<div>\n",
       "<style scoped>\n",
       "    .dataframe tbody tr th:only-of-type {\n",
       "        vertical-align: middle;\n",
       "    }\n",
       "\n",
       "    .dataframe tbody tr th {\n",
       "        vertical-align: top;\n",
       "    }\n",
       "\n",
       "    .dataframe thead th {\n",
       "        text-align: right;\n",
       "    }\n",
       "</style>\n",
       "<table border=\"1\" class=\"dataframe\">\n",
       "  <thead>\n",
       "    <tr style=\"text-align: right;\">\n",
       "      <th></th>\n",
       "      <th>Title</th>\n",
       "      <th>Short title</th>\n",
       "      <th>Href</th>\n",
       "      <th>Image src</th>\n",
       "      <th>Tags</th>\n",
       "      <th>Translation</th>\n",
       "      <th>Description</th>\n",
       "      <th>Count episodes</th>\n",
       "      <th>Rating</th>\n",
       "    </tr>\n",
       "  </thead>\n",
       "  <tbody>\n",
       "    <tr>\n",
       "      <th>0</th>\n",
       "      <td>Эхо террора (Terror in Resonance: Zankyou no T...</td>\n",
       "      <td>Эхо террора</td>\n",
       "      <td>https://findanime.net/eho_terrora</td>\n",
       "      <td>https://static.findanime.net/uploads/pics/00/3...</td>\n",
       "      <td>['психология', 'детектив', 'сэйнэн', 'школа', ...</td>\n",
       "      <td>переведено</td>\n",
       "      <td>Японскую столицу терроризирует группа «Сфинкс»...</td>\n",
       "      <td>11</td>\n",
       "      <td>4.7</td>\n",
       "    </tr>\n",
       "    <tr>\n",
       "      <th>1</th>\n",
       "      <td>Магистр дьявольского культа 3 (The Founder of ...</td>\n",
       "      <td>Магистр дьявольского культа 3</td>\n",
       "      <td>https://findanime.net/magistr_diavolskogo_kulta_3</td>\n",
       "      <td>https://static.findanime.net/uploads/pics/01/2...</td>\n",
       "      <td>['подтекст и персонажи BL/GL', 'романтика', 'к...</td>\n",
       "      <td>переведено</td>\n",
       "      <td>Продолжение аниме по новелле Мосян Тунсю Магис...</td>\n",
       "      <td>12</td>\n",
       "      <td>4.8</td>\n",
       "    </tr>\n",
       "    <tr>\n",
       "      <th>2</th>\n",
       "      <td>Крутой учитель Онидзука (Great Teacher Onizuka...</td>\n",
       "      <td>Крутой учитель Онидзука</td>\n",
       "      <td>https://findanime.net/great_teacher_onizuka</td>\n",
       "      <td>https://static.findanime.net/uploads/pics/00/1...</td>\n",
       "      <td>['повседневность', 'школа', 'сёнэн', 'комедия'...</td>\n",
       "      <td>переведено</td>\n",
       "      <td>Главный персонаж «GTO» — молодой парень Онидзу...</td>\n",
       "      <td>43</td>\n",
       "      <td>4.8</td>\n",
       "    </tr>\n",
       "    <tr>\n",
       "      <th>3</th>\n",
       "      <td>Синий экзорцист [Фильм] (Blue Exorcist The Mov...</td>\n",
       "      <td>Синий экзорцист [Фильм]</td>\n",
       "      <td>https://findanime.net/sinii_ekzorcist__film_</td>\n",
       "      <td>https://static.findanime.net/uploads/pics/00/2...</td>\n",
       "      <td>['фэнтези', 'школа', 'сёнэн', 'комедия', 'прик...</td>\n",
       "      <td>переведено</td>\n",
       "      <td>Каждые одиннадцать лет Академия Истинного Крес...</td>\n",
       "      <td>1</td>\n",
       "      <td>4.8</td>\n",
       "    </tr>\n",
       "    <tr>\n",
       "      <th>4</th>\n",
       "      <td>Дороро (Dororo)</td>\n",
       "      <td>Дороро</td>\n",
       "      <td>https://findanime.net/dororo__A56b5</td>\n",
       "      <td>https://static.findanime.net/uploads/pics/00/8...</td>\n",
       "      <td>['ужасы', 'сёнэн', 'экшн', 'исторический', 'ми...</td>\n",
       "      <td>переведено</td>\n",
       "      <td>Земли жадного владыки-самурая Кагэмицу Дайго п...</td>\n",
       "      <td>24</td>\n",
       "      <td>4.8</td>\n",
       "    </tr>\n",
       "  </tbody>\n",
       "</table>\n",
       "</div>"
      ],
      "text/plain": [
       "                                               Title  \\\n",
       "0  Эхо террора (Terror in Resonance: Zankyou no T...   \n",
       "1  Магистр дьявольского культа 3 (The Founder of ...   \n",
       "2  Крутой учитель Онидзука (Great Teacher Onizuka...   \n",
       "3  Синий экзорцист [Фильм] (Blue Exorcist The Mov...   \n",
       "4                                    Дороро (Dororo)   \n",
       "\n",
       "                     Short title  \\\n",
       "0                    Эхо террора   \n",
       "1  Магистр дьявольского культа 3   \n",
       "2        Крутой учитель Онидзука   \n",
       "3        Синий экзорцист [Фильм]   \n",
       "4                         Дороро   \n",
       "\n",
       "                                                Href  \\\n",
       "0                  https://findanime.net/eho_terrora   \n",
       "1  https://findanime.net/magistr_diavolskogo_kulta_3   \n",
       "2        https://findanime.net/great_teacher_onizuka   \n",
       "3       https://findanime.net/sinii_ekzorcist__film_   \n",
       "4                https://findanime.net/dororo__A56b5   \n",
       "\n",
       "                                           Image src  \\\n",
       "0  https://static.findanime.net/uploads/pics/00/3...   \n",
       "1  https://static.findanime.net/uploads/pics/01/2...   \n",
       "2  https://static.findanime.net/uploads/pics/00/1...   \n",
       "3  https://static.findanime.net/uploads/pics/00/2...   \n",
       "4  https://static.findanime.net/uploads/pics/00/8...   \n",
       "\n",
       "                                                Tags Translation  \\\n",
       "0  ['психология', 'детектив', 'сэйнэн', 'школа', ...  переведено   \n",
       "1  ['подтекст и персонажи BL/GL', 'романтика', 'к...  переведено   \n",
       "2  ['повседневность', 'школа', 'сёнэн', 'комедия'...  переведено   \n",
       "3  ['фэнтези', 'школа', 'сёнэн', 'комедия', 'прик...  переведено   \n",
       "4  ['ужасы', 'сёнэн', 'экшн', 'исторический', 'ми...  переведено   \n",
       "\n",
       "                                         Description  Count episodes  Rating  \n",
       "0  Японскую столицу терроризирует группа «Сфинкс»...              11     4.7  \n",
       "1  Продолжение аниме по новелле Мосян Тунсю Магис...              12     4.8  \n",
       "2  Главный персонаж «GTO» — молодой парень Онидзу...              43     4.8  \n",
       "3  Каждые одиннадцать лет Академия Истинного Крес...               1     4.8  \n",
       "4  Земли жадного владыки-самурая Кагэмицу Дайго п...              24     4.8  "
      ]
     },
     "metadata": {},
     "output_type": "display_data"
    }
   ],
   "source": [
    "# First five rows\n",
    "df.head(5)"
   ]
  },
  {
   "cell_type": "code",
   "execution_count": null,
   "id": "b171bf26",
   "metadata": {},
   "outputs": [
    {
     "data": {
      "text/plain": [
       "(5530, 9)"
      ]
     },
     "metadata": {},
     "output_type": "display_data"
    }
   ],
   "source": [
    "# Dimention of dataset\n",
    "df.shape"
   ]
  }
 ],
 "metadata": {
  "kernelspec": {
   "display_name": "Python 3 (ipykernel)",
   "language": "python",
   "name": "python3"
  },
  "language_info": {
   "codemirror_mode": {
    "name": "ipython",
    "version": 3
   },
   "file_extension": ".py",
   "mimetype": "text/x-python",
   "name": "python",
   "nbconvert_exporter": "python",
   "pygments_lexer": "ipython3",
   "version": "3.7.0"
  }
 },
 "nbformat": 4,
 "nbformat_minor": 5
}
